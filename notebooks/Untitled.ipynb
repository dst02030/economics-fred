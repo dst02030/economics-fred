{
 "cells": [
  {
   "cell_type": "code",
   "execution_count": 69,
   "id": "ae9784e7-188c-45bc-a2d6-419417d96264",
   "metadata": {},
   "outputs": [],
   "source": [
    "import fredapi\n",
    "import pandas as pd\n",
    "import numpy as np\n",
    "import requests\n",
    "import json"
   ]
  },
  {
   "cell_type": "code",
   "execution_count": 66,
   "id": "856c96ac-3af1-40a0-be8e-32c260d67bbd",
   "metadata": {},
   "outputs": [],
   "source": [
    "auth_key='60c2303c4d56f2bdf6349c588df1943c'\n",
    "file_type = 'json'\n",
    "main_url = \"https://api.stlouisfed.org/fred/\""
   ]
  },
  {
   "cell_type": "code",
   "execution_count": 72,
   "id": "dc60f865-80f2-42d4-bb40-ebd39b78492a",
   "metadata": {},
   "outputs": [],
   "source": [
    "category_id = 0\n",
    "res = requests.get(f\"{main_url}category?category_id={category_id}&api_key={auth_key}&file_type={file_type}\")\n",
    "res.raise_for_status()\n",
    "data = json.loads(res.text)"
   ]
  },
  {
   "cell_type": "code",
   "execution_count": 73,
   "id": "17850ab1-636f-451b-9e8d-3c9683e2bc96",
   "metadata": {},
   "outputs": [
    {
     "data": {
      "text/plain": [
       "{'categories': [{'id': 0, 'name': 'Categories', 'parent_id': 0}]}"
      ]
     },
     "execution_count": 73,
     "metadata": {},
     "output_type": "execute_result"
    }
   ],
   "source": [
    "data"
   ]
  },
  {
   "cell_type": "code",
   "execution_count": 22,
   "id": "9c3f2365-15f3-40d0-9119-7bbaeca0e00a",
   "metadata": {},
   "outputs": [
    {
     "data": {
      "text/plain": [
       "2004-07-01     1886.0\n",
       "2004-08-01     1793.0\n",
       "2004-09-01     1909.0\n",
       "2004-10-01     1986.0\n",
       "2004-11-01     1699.0\n",
       "               ...   \n",
       "2023-09-01     7108.0\n",
       "2023-10-01    13662.0\n",
       "2023-11-01     5038.0\n",
       "2023-12-01     3792.0\n",
       "2024-01-01    10993.0\n",
       "Length: 235, dtype: float64"
      ]
     },
     "execution_count": 22,
     "metadata": {},
     "output_type": "execute_result"
    }
   ],
   "source": [
    "fred.get_series('BABANAICS11NSAUS')"
   ]
  },
  {
   "cell_type": "code",
   "execution_count": 30,
   "id": "68efbbbd",
   "metadata": {},
   "outputs": [
    {
     "data": {
      "text/plain": [
       "series id\n",
       "2020RATIO029143        False\n",
       "ATNHPIUS29143A         False\n",
       "B01002001E029143       False\n",
       "B03002001E029143       False\n",
       "B03002002E029143       False\n",
       "                       ...  \n",
       "REALGDPSERV29143       False\n",
       "S1101SPHOUSE029143     False\n",
       "S1501ACSTOTAL029143    False\n",
       "S1701ACS029143         False\n",
       "USPTOISSUED029143      False\n",
       "Name: id, Length: 88, dtype: bool"
      ]
     },
     "execution_count": 30,
     "metadata": {},
     "output_type": "execute_result"
    }
   ],
   "source": [
    "fred.search_by_category(1000)['id'].isin(fred.search_by_category(1)['id'])"
   ]
  },
  {
   "cell_type": "markdown",
   "id": "cd1bb0b5",
   "metadata": {},
   "source": [
    "# 1. 공시정보"
   ]
  },
  {
   "cell_type": "markdown",
   "id": "72f4bd4d",
   "metadata": {},
   "source": [
    "## [1] 공시검색"
   ]
  },
  {
   "cell_type": "code",
   "execution_count": 8,
   "id": "2deadd78",
   "metadata": {},
   "outputs": [],
   "source": [
    "detail_url = 'list'\n",
    "corp_code = None\n",
    "bgn_de = None\n",
    "end_de = None\n",
    "last_reprt_at = None\n",
    "pblntf_ty = None\n",
    "pblntf_detail_ty = None\n",
    "corp_cls = None\n",
    "sort = None\n",
    "sort_mth = None\n",
    "page_no = None\n",
    "page_count = None"
   ]
  },
  {
   "cell_type": "code",
   "execution_count": 9,
   "id": "c1e255fc",
   "metadata": {},
   "outputs": [
    {
     "ename": "Exception",
     "evalue": "",
     "output_type": "error",
     "traceback": [
      "\u001b[0;31m---------------------------------------------------------------------------\u001b[0m",
      "\u001b[0;31mException\u001b[0m                                 Traceback (most recent call last)",
      "Cell \u001b[0;32mIn[9], line 5\u001b[0m\n\u001b[1;32m      1\u001b[0m api_results \u001b[38;5;241m=\u001b[39m json\u001b[38;5;241m.\u001b[39mloads(\n\u001b[1;32m      2\u001b[0m     requests\u001b[38;5;241m.\u001b[39mget(\u001b[38;5;124mf\u001b[39m\u001b[38;5;124m'\u001b[39m\u001b[38;5;132;01m{\u001b[39;00mtitle_url\u001b[38;5;132;01m}\u001b[39;00m\u001b[38;5;124m/\u001b[39m\u001b[38;5;132;01m{\u001b[39;00mdetail_url\u001b[38;5;132;01m}\u001b[39;00m\u001b[38;5;124m.\u001b[39m\u001b[38;5;132;01m{\u001b[39;00mdata_type\u001b[38;5;132;01m}\u001b[39;00m\u001b[38;5;124m?crtfc_key=\u001b[39m\u001b[38;5;132;01m{\u001b[39;00mauth_key\u001b[38;5;132;01m}\u001b[39;00m\u001b[38;5;124m&page_count=\u001b[39m\u001b[38;5;132;01m{\u001b[39;00mmax_rows\u001b[38;5;132;01m}\u001b[39;00m\u001b[38;5;124m'\u001b[39m)\u001b[38;5;241m.\u001b[39mtext\n\u001b[1;32m      3\u001b[0m     )\n\u001b[1;32m      4\u001b[0m \u001b[38;5;28;01mif\u001b[39;00m api_results[\u001b[38;5;124m'\u001b[39m\u001b[38;5;124mstatus\u001b[39m\u001b[38;5;124m'\u001b[39m] \u001b[38;5;241m!=\u001b[39m \u001b[38;5;124m'\u001b[39m\u001b[38;5;124m000\u001b[39m\u001b[38;5;124m'\u001b[39m:\n\u001b[0;32m----> 5\u001b[0m     \u001b[38;5;28;01mraise\u001b[39;00m \u001b[38;5;167;01mException\u001b[39;00m()\n",
      "\u001b[0;31mException\u001b[0m: "
     ]
    }
   ],
   "source": [
    "api_results = json.loads(\n",
    "    requests.get(f'{title_url}/{detail_url}.{data_type}?crtfc_key={auth_key}&page_count={max_rows}').text\n",
    "    )\n",
    "if api_results['status'] != '000':\n",
    "    raise Exception()"
   ]
  }
 ],
 "metadata": {
  "kernelspec": {
   "display_name": "Python 3 (ipykernel)",
   "language": "python",
   "name": "python3"
  },
  "language_info": {
   "codemirror_mode": {
    "name": "ipython",
    "version": 3
   },
   "file_extension": ".py",
   "mimetype": "text/x-python",
   "name": "python",
   "nbconvert_exporter": "python",
   "pygments_lexer": "ipython3",
   "version": "3.12.1"
  }
 },
 "nbformat": 4,
 "nbformat_minor": 5
}
